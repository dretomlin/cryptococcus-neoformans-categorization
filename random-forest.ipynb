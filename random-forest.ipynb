{
 "cells": [
  {
   "cell_type": "code",
   "execution_count": 1,
   "metadata": {},
   "outputs": [],
   "source": [
    "#!/usr/bin/env python\n",
    "# coding: utf-8\n",
    "\n",
    "import sys\n",
    "import os\n",
    "import pandas as pd\n",
    "import numpy as np\n",
    "import sklearn\n",
    "from sklearn import ensemble\n",
    "from sklearn.tree import plot_tree\n",
    "from sklearn.metrics import roc_curve, precision_recall_curve, auc, roc_auc_score, f1_score\n",
    "from sklearn.metrics import confusion_matrix, classification_report, accuracy_score\n",
    "import seaborn as sns\n",
    "import scikitplot as skplt\n",
    "import matplotlib.pyplot as plt\n",
    "from random import randint, seed\n",
    "import time"
   ]
  },
  {
   "cell_type": "code",
   "execution_count": 2,
   "metadata": {},
   "outputs": [],
   "source": [
    "if len(sys.argv) < 3:\n",
    "    print('''\n",
    "    usage: python ./tree.py TRAINING TESTING\n",
    "    TRAINING: file path to csv file of all training objects\n",
    "    TESTING: path to csv file of all test objects\n",
    "\n",
    "    both csvs should be output from ldaIsh.py to ensure proper formatting\n",
    "    ''')\n",
    "    exit(1)"
   ]
  },
  {
   "cell_type": "code",
   "execution_count": 3,
   "metadata": {},
   "outputs": [],
   "source": [
    "def graphSaver(filename):\n",
    "    '''\n",
    "    Function to save graphs to user's desktop\n",
    "    Saves to folder called \"graph_pictures\"\n",
    "    Input is a string with what you want the file to be called\n",
    "    '''\n",
    "    \n",
    "    directory = 'graph_pictures'\n",
    "\n",
    "    if not os.path.exists(directory):\n",
    "        os.makedirs(directory)\n",
    "\n",
    "    savepath = directory+'/'+filename\n",
    "    plt.savefig(savepath)"
   ]
  },
  {
   "cell_type": "code",
   "execution_count": 4,
   "metadata": {},
   "outputs": [],
   "source": [
    "def perf_measure(y_actual, y_hat):\n",
    "    '''Performs the confusion matrix values\n",
    "    True positive, True Negative, False Positive, False Negative\n",
    "    Returns the 4 values as well\n",
    "    '''\n",
    "    TP = 0\n",
    "    FP = 0\n",
    "    TN = 0\n",
    "    FN = 0\n",
    "\n",
    "    for i in range(len(y_hat)): \n",
    "        if y_actual[i]==y_hat[i]==1:\n",
    "            TP += 1\n",
    "        if y_hat[i]==1 and y_actual[i]!=y_hat[i]:\n",
    "            FP += 1\n",
    "        if y_actual[i]==y_hat[i]==0:\n",
    "            TN += 1\n",
    "        if y_hat[i]==0 and y_actual[i]!=y_hat[i]:\n",
    "            FN += 1\n",
    "\n",
    "    return(TP, FP, TN, FN)"
   ]
  },
  {
   "cell_type": "code",
   "execution_count": 5,
   "metadata": {},
   "outputs": [],
   "source": [
    "#train = sys.argv[1]\n",
    "#test = sys.argv[2]\n",
    "train = 'ltg_3k_training.csv'\n",
    "test = 'ltg_3k_testing.csv'"
   ]
  },
  {
   "cell_type": "code",
   "execution_count": 6,
   "metadata": {},
   "outputs": [],
   "source": [
    "tr = pd.read_csv(train)\n",
    "te = pd.read_csv(test)\n",
    "names = tr.columns.values.tolist()[0:-1]"
   ]
  },
  {
   "cell_type": "code",
   "execution_count": 7,
   "metadata": {
    "scrolled": true
   },
   "outputs": [
    {
     "data": {
      "text/html": [
       "<div>\n",
       "<style scoped>\n",
       "    .dataframe tbody tr th:only-of-type {\n",
       "        vertical-align: middle;\n",
       "    }\n",
       "\n",
       "    .dataframe tbody tr th {\n",
       "        vertical-align: top;\n",
       "    }\n",
       "\n",
       "    .dataframe thead th {\n",
       "        text-align: right;\n",
       "    }\n",
       "</style>\n",
       "<table border=\"1\" class=\"dataframe\">\n",
       "  <thead>\n",
       "    <tr style=\"text-align: right;\">\n",
       "      <th></th>\n",
       "      <th>topic_0</th>\n",
       "      <th>topic_1</th>\n",
       "      <th>topic_2</th>\n",
       "      <th>label</th>\n",
       "    </tr>\n",
       "  </thead>\n",
       "  <tbody>\n",
       "    <tr>\n",
       "      <th>0</th>\n",
       "      <td>0.160985</td>\n",
       "      <td>0.829867</td>\n",
       "      <td>0.000000</td>\n",
       "      <td>1</td>\n",
       "    </tr>\n",
       "    <tr>\n",
       "      <th>1</th>\n",
       "      <td>0.091834</td>\n",
       "      <td>0.884630</td>\n",
       "      <td>0.023536</td>\n",
       "      <td>1</td>\n",
       "    </tr>\n",
       "    <tr>\n",
       "      <th>2</th>\n",
       "      <td>0.071155</td>\n",
       "      <td>0.897729</td>\n",
       "      <td>0.031116</td>\n",
       "      <td>1</td>\n",
       "    </tr>\n",
       "    <tr>\n",
       "      <th>3</th>\n",
       "      <td>0.299093</td>\n",
       "      <td>0.681239</td>\n",
       "      <td>0.019669</td>\n",
       "      <td>1</td>\n",
       "    </tr>\n",
       "    <tr>\n",
       "      <th>4</th>\n",
       "      <td>0.031027</td>\n",
       "      <td>0.821177</td>\n",
       "      <td>0.147796</td>\n",
       "      <td>1</td>\n",
       "    </tr>\n",
       "    <tr>\n",
       "      <th>5</th>\n",
       "      <td>0.097299</td>\n",
       "      <td>0.709138</td>\n",
       "      <td>0.193563</td>\n",
       "      <td>0</td>\n",
       "    </tr>\n",
       "    <tr>\n",
       "      <th>6</th>\n",
       "      <td>0.281215</td>\n",
       "      <td>0.701304</td>\n",
       "      <td>0.017481</td>\n",
       "      <td>1</td>\n",
       "    </tr>\n",
       "    <tr>\n",
       "      <th>7</th>\n",
       "      <td>0.314910</td>\n",
       "      <td>0.669907</td>\n",
       "      <td>0.015183</td>\n",
       "      <td>0</td>\n",
       "    </tr>\n",
       "    <tr>\n",
       "      <th>8</th>\n",
       "      <td>0.370863</td>\n",
       "      <td>0.495455</td>\n",
       "      <td>0.133683</td>\n",
       "      <td>0</td>\n",
       "    </tr>\n",
       "    <tr>\n",
       "      <th>9</th>\n",
       "      <td>0.159246</td>\n",
       "      <td>0.548889</td>\n",
       "      <td>0.291865</td>\n",
       "      <td>0</td>\n",
       "    </tr>\n",
       "    <tr>\n",
       "      <th>10</th>\n",
       "      <td>0.145358</td>\n",
       "      <td>0.738325</td>\n",
       "      <td>0.116317</td>\n",
       "      <td>1</td>\n",
       "    </tr>\n",
       "    <tr>\n",
       "      <th>11</th>\n",
       "      <td>0.303793</td>\n",
       "      <td>0.641473</td>\n",
       "      <td>0.054734</td>\n",
       "      <td>1</td>\n",
       "    </tr>\n",
       "    <tr>\n",
       "      <th>12</th>\n",
       "      <td>0.142945</td>\n",
       "      <td>0.821119</td>\n",
       "      <td>0.035935</td>\n",
       "      <td>0</td>\n",
       "    </tr>\n",
       "    <tr>\n",
       "      <th>13</th>\n",
       "      <td>0.367935</td>\n",
       "      <td>0.546054</td>\n",
       "      <td>0.086010</td>\n",
       "      <td>1</td>\n",
       "    </tr>\n",
       "    <tr>\n",
       "      <th>14</th>\n",
       "      <td>0.144119</td>\n",
       "      <td>0.766581</td>\n",
       "      <td>0.089300</td>\n",
       "      <td>1</td>\n",
       "    </tr>\n",
       "    <tr>\n",
       "      <th>15</th>\n",
       "      <td>0.211712</td>\n",
       "      <td>0.688644</td>\n",
       "      <td>0.099644</td>\n",
       "      <td>1</td>\n",
       "    </tr>\n",
       "    <tr>\n",
       "      <th>16</th>\n",
       "      <td>0.147101</td>\n",
       "      <td>0.619420</td>\n",
       "      <td>0.233479</td>\n",
       "      <td>1</td>\n",
       "    </tr>\n",
       "    <tr>\n",
       "      <th>17</th>\n",
       "      <td>0.042211</td>\n",
       "      <td>0.957686</td>\n",
       "      <td>0.233479</td>\n",
       "      <td>0</td>\n",
       "    </tr>\n",
       "    <tr>\n",
       "      <th>18</th>\n",
       "      <td>0.261768</td>\n",
       "      <td>0.738013</td>\n",
       "      <td>0.233479</td>\n",
       "      <td>1</td>\n",
       "    </tr>\n",
       "    <tr>\n",
       "      <th>19</th>\n",
       "      <td>0.216262</td>\n",
       "      <td>0.757328</td>\n",
       "      <td>0.026410</td>\n",
       "      <td>0</td>\n",
       "    </tr>\n",
       "    <tr>\n",
       "      <th>20</th>\n",
       "      <td>0.146921</td>\n",
       "      <td>0.785449</td>\n",
       "      <td>0.067631</td>\n",
       "      <td>1</td>\n",
       "    </tr>\n",
       "    <tr>\n",
       "      <th>21</th>\n",
       "      <td>0.199220</td>\n",
       "      <td>0.724094</td>\n",
       "      <td>0.076686</td>\n",
       "      <td>1</td>\n",
       "    </tr>\n",
       "    <tr>\n",
       "      <th>22</th>\n",
       "      <td>0.273678</td>\n",
       "      <td>0.605739</td>\n",
       "      <td>0.120582</td>\n",
       "      <td>1</td>\n",
       "    </tr>\n",
       "    <tr>\n",
       "      <th>23</th>\n",
       "      <td>0.144221</td>\n",
       "      <td>0.679160</td>\n",
       "      <td>0.176618</td>\n",
       "      <td>1</td>\n",
       "    </tr>\n",
       "    <tr>\n",
       "      <th>24</th>\n",
       "      <td>0.205844</td>\n",
       "      <td>0.654501</td>\n",
       "      <td>0.139655</td>\n",
       "      <td>0</td>\n",
       "    </tr>\n",
       "    <tr>\n",
       "      <th>25</th>\n",
       "      <td>0.035284</td>\n",
       "      <td>0.797788</td>\n",
       "      <td>0.166929</td>\n",
       "      <td>1</td>\n",
       "    </tr>\n",
       "    <tr>\n",
       "      <th>26</th>\n",
       "      <td>0.202686</td>\n",
       "      <td>0.794987</td>\n",
       "      <td>0.166929</td>\n",
       "      <td>1</td>\n",
       "    </tr>\n",
       "    <tr>\n",
       "      <th>27</th>\n",
       "      <td>0.211157</td>\n",
       "      <td>0.754317</td>\n",
       "      <td>0.034526</td>\n",
       "      <td>1</td>\n",
       "    </tr>\n",
       "    <tr>\n",
       "      <th>28</th>\n",
       "      <td>0.192606</td>\n",
       "      <td>0.781179</td>\n",
       "      <td>0.026216</td>\n",
       "      <td>1</td>\n",
       "    </tr>\n",
       "    <tr>\n",
       "      <th>29</th>\n",
       "      <td>0.354041</td>\n",
       "      <td>0.596948</td>\n",
       "      <td>0.049011</td>\n",
       "      <td>1</td>\n",
       "    </tr>\n",
       "    <tr>\n",
       "      <th>30</th>\n",
       "      <td>0.163590</td>\n",
       "      <td>0.743190</td>\n",
       "      <td>0.093220</td>\n",
       "      <td>0</td>\n",
       "    </tr>\n",
       "  </tbody>\n",
       "</table>\n",
       "</div>"
      ],
      "text/plain": [
       "     topic_0   topic_1   topic_2  label\n",
       "0   0.160985  0.829867  0.000000      1\n",
       "1   0.091834  0.884630  0.023536      1\n",
       "2   0.071155  0.897729  0.031116      1\n",
       "3   0.299093  0.681239  0.019669      1\n",
       "4   0.031027  0.821177  0.147796      1\n",
       "5   0.097299  0.709138  0.193563      0\n",
       "6   0.281215  0.701304  0.017481      1\n",
       "7   0.314910  0.669907  0.015183      0\n",
       "8   0.370863  0.495455  0.133683      0\n",
       "9   0.159246  0.548889  0.291865      0\n",
       "10  0.145358  0.738325  0.116317      1\n",
       "11  0.303793  0.641473  0.054734      1\n",
       "12  0.142945  0.821119  0.035935      0\n",
       "13  0.367935  0.546054  0.086010      1\n",
       "14  0.144119  0.766581  0.089300      1\n",
       "15  0.211712  0.688644  0.099644      1\n",
       "16  0.147101  0.619420  0.233479      1\n",
       "17  0.042211  0.957686  0.233479      0\n",
       "18  0.261768  0.738013  0.233479      1\n",
       "19  0.216262  0.757328  0.026410      0\n",
       "20  0.146921  0.785449  0.067631      1\n",
       "21  0.199220  0.724094  0.076686      1\n",
       "22  0.273678  0.605739  0.120582      1\n",
       "23  0.144221  0.679160  0.176618      1\n",
       "24  0.205844  0.654501  0.139655      0\n",
       "25  0.035284  0.797788  0.166929      1\n",
       "26  0.202686  0.794987  0.166929      1\n",
       "27  0.211157  0.754317  0.034526      1\n",
       "28  0.192606  0.781179  0.026216      1\n",
       "29  0.354041  0.596948  0.049011      1\n",
       "30  0.163590  0.743190  0.093220      0"
      ]
     },
     "execution_count": 7,
     "metadata": {},
     "output_type": "execute_result"
    }
   ],
   "source": [
    "te"
   ]
  },
  {
   "cell_type": "code",
   "execution_count": 8,
   "metadata": {},
   "outputs": [],
   "source": [
    "Attributes=tr[names]\n",
    "Labels=tr['label']"
   ]
  },
  {
   "cell_type": "code",
   "execution_count": 10,
   "metadata": {},
   "outputs": [],
   "source": [
    "#Set variables for random forest evaluation\n",
    "recordedRecall=0\n",
    "recordedPrecision=0\n",
    "recordedAccuracy=0\n",
    "bestF1=0\n",
    "realTP=0\n",
    "realTN=0\n",
    "realFP=0\n",
    "realFN=0"
   ]
  },
  {
   "cell_type": "code",
   "execution_count": 11,
   "metadata": {},
   "outputs": [],
   "source": [
    "#Random forest parameters\n",
    "nestimators=10\n",
    "maxdepth=100\n",
    "repeatRange = 250\n",
    "model_list = []"
   ]
  },
  {
   "cell_type": "code",
   "execution_count": 15,
   "metadata": {},
   "outputs": [],
   "source": [
    "#Random forest function\n",
    "for i in range(repeatRange):\n",
    "    clf=ensemble.RandomForestClassifier(n_estimators = nestimators, max_depth=maxdepth)\n",
    "    clf=clf.fit(Attributes, Labels)\n",
    "    \n",
    "    yhat = clf.predict_proba(te[names].copy())\n",
    "    labels = clf.predict(te[names].copy())\n",
    "    truth = te['label'].values.tolist()\n",
    "    seed(time.time())\n",
    "    \n",
    "    tp, fp, tn, fn = perf_measure(truth, labels)\n",
    "    \n",
    "    precision = float(tp/(tp+fp))\n",
    "    accuracy = (tp+tn)/(tp+tn+fp+fn) \n",
    "    recall = float(tp/(tp+fn))\n",
    "    if precision and recall == 0:\n",
    "        f1 = 0\n",
    "    try:\n",
    "        f1 = 2 * (float(precision * recall) / float(precision + recall))\n",
    "    except ZeroDivisionError:\n",
    "        f1 = 0\n",
    "\n",
    "    if(f1>bestF1):\n",
    "        bestF1=f1\n",
    "        recordedAccuracy=accuracy\n",
    "        recordedPrecision=precision\n",
    "        recordedRecall=recall\n",
    "        realTP=tp\n",
    "        realTN=tn\n",
    "        realFP=fp\n",
    "        realFN=fn\n",
    "        model_list.append(clf)\n",
    "        best_label = np.array(labels)\n",
    "        best_yhat = np.array(yhat)"
   ]
  },
  {
   "cell_type": "code",
   "execution_count": 16,
   "metadata": {},
   "outputs": [
    {
     "name": "stdout",
     "output_type": "stream",
     "text": [
      "Note: tree creation is not always deterministic.\n",
      "Number of topics:  3\n",
      "Number of models:  8\n",
      "% of docs that are positive:  0.7096774193548387\n",
      "% of docs that are negative:  0.2903225806451613\n"
     ]
    }
   ],
   "source": [
    "print(\"Note: tree creation is not always deterministic.\")\n",
    "print(\"Number of topics: \", len(names))\n",
    "print(\"Number of models: \", len(model_list))\n",
    "print(\"% of docs that are positive: \", (tp+fn)/(tp+fn+fp+tn))\n",
    "print(\"% of docs that are negative: \", (fp+tn)/(tp+fn+fp+tn))"
   ]
  },
  {
   "cell_type": "code",
   "execution_count": 17,
   "metadata": {},
   "outputs": [
    {
     "name": "stdout",
     "output_type": "stream",
     "text": [
      "TP:  20\n",
      "FP:  8\n",
      "TN:  1\n",
      "FN:  2\n",
      "\n",
      "Precision:  0.7142857142857143\n",
      "Accuracy:   0.6774193548387096\n",
      "Recall:     0.9090909090909091\n",
      "F1:         0.8\n"
     ]
    }
   ],
   "source": [
    "#This returns the best score based on the best F1 score\n",
    "print(\"TP: \", realTP)\n",
    "print(\"FP: \", realFP)\n",
    "print(\"TN: \", realTN)\n",
    "print(\"FN: \", realFN)\n",
    "print()\n",
    "print(\"Precision: \", recordedPrecision)\n",
    "print(\"Accuracy:  \", recordedAccuracy)\n",
    "print(\"Recall:    \", recordedRecall)\n",
    "print(\"F1:        \", bestF1)"
   ]
  },
  {
   "cell_type": "code",
   "execution_count": 18,
   "metadata": {},
   "outputs": [
    {
     "data": {
      "text/plain": [
       "array([1, 1, 0, 1, 1, 1, 1, 1, 1, 1, 1, 1, 1, 1, 1, 1, 1, 0, 1, 1, 1, 1,\n",
       "       1, 1, 1, 0, 1, 1, 1, 1, 1])"
      ]
     },
     "execution_count": 18,
     "metadata": {},
     "output_type": "execute_result"
    }
   ],
   "source": [
    "best_label"
   ]
  },
  {
   "cell_type": "code",
   "execution_count": 19,
   "metadata": {},
   "outputs": [
    {
     "name": "stdout",
     "output_type": "stream",
     "text": [
      "These are the labels:  [1 1 1 1 1 0 1 0 0 0 1 1 0 1 1 1 1 0 1 0 1 1 1 1 0 1 1 1 1 1 0]\n",
      "These are the predicted labels after classification:  [1 1 0 1 1 1 1 1 1 1 1 1 1 1 1 1 1 0 1 1 1 1 1 1 1 0 1 1 1 1 1]\n"
     ]
    }
   ],
   "source": [
    "truth2 = np.array(truth)\n",
    "labels2 = np.array(best_label)\n",
    "print(\"These are the labels: \", truth2)\n",
    "print(\"These are the predicted labels after classification: \", labels2)"
   ]
  },
  {
   "cell_type": "code",
   "execution_count": 20,
   "metadata": {},
   "outputs": [
    {
     "name": "stdout",
     "output_type": "stream",
     "text": [
      "              precision    recall  f1-score   support\n",
      "\n",
      "           0       0.33      0.11      0.17         9\n",
      "           1       0.71      0.91      0.80        22\n",
      "\n",
      "    accuracy                           0.68        31\n",
      "   macro avg       0.52      0.51      0.48        31\n",
      "weighted avg       0.60      0.68      0.62        31\n",
      " 0.6774193548387096 0.8\n"
     ]
    }
   ],
   "source": [
    "cr = classification_report(truth2, labels2, labels=[0,1])\n",
    "ar = accuracy_score(truth2, labels2)\n",
    "fs = f1_score(truth2, labels2)\n",
    "print(cr, ar, fs)"
   ]
  },
  {
   "cell_type": "code",
   "execution_count": 21,
   "metadata": {},
   "outputs": [
    {
     "data": {
      "text/plain": [
       "20"
      ]
     },
     "execution_count": 21,
     "metadata": {},
     "output_type": "execute_result"
    }
   ],
   "source": [
    "realTP"
   ]
  },
  {
   "cell_type": "code",
   "execution_count": 22,
   "metadata": {},
   "outputs": [],
   "source": [
    "pos_probs = best_yhat[:,1]"
   ]
  },
  {
   "cell_type": "code",
   "execution_count": 23,
   "metadata": {},
   "outputs": [],
   "source": [
    "#d2pprobs = np.array(yhat)"
   ]
  },
  {
   "cell_type": "code",
   "execution_count": 24,
   "metadata": {},
   "outputs": [],
   "source": [
    "precision2, recall2, thresholds = precision_recall_curve(truth2, pos_probs)"
   ]
  },
  {
   "cell_type": "code",
   "execution_count": 25,
   "metadata": {},
   "outputs": [
    {
     "data": {
      "image/png": "[encoded data removed]",
      "text/plain": [
       "<Figure size 432x288 with 1 Axes>"
      ]
     },
     "metadata": {
      "needs_background": "light"
     },
     "output_type": "display_data"
    }
   ],
   "source": [
    "'''\n",
    "Process for creating precision-recall curve\n",
    "Not used in this proejct, but for analysis purposes\n",
    "'''\n",
    "lr_precision, lr_recall, _ = precision_recall_curve(truth2, pos_probs)\n",
    "\n",
    "lr_f1, lr_auc = f1_score(truth2, labels2), auc(recall2, precision2)\n",
    "\n",
    "plt.plot(lr_recall, lr_precision, marker='.', label='Logistic')\n",
    "# axis labels\n",
    "plt.xlabel('Recall')\n",
    "plt.ylabel('Precision')\n",
    "# show the legend\n",
    "plt.legend()\n",
    "# show the plot\n",
    "plt.show()"
   ]
  },
  {
   "cell_type": "code",
   "execution_count": 26,
   "metadata": {},
   "outputs": [
    {
     "name": "stdout",
     "output_type": "stream",
     "text": [
      "0.7752491090959271\n",
      "0.5454545454545454\n"
     ]
    }
   ],
   "source": [
    "auc_score = auc(recall2, precision2)\n",
    "roc_auc_result = roc_auc_score(truth2, pos_probs)\n",
    "print(auc_score)\n",
    "print(roc_auc_result)"
   ]
  },
  {
   "cell_type": "code",
   "execution_count": 27,
   "metadata": {},
   "outputs": [
    {
     "data": {
      "image/png": "[encoded data removed]",
      "text/plain": [
       "<Figure size 432x288 with 1 Axes>"
      ]
     },
     "metadata": {
      "needs_background": "light"
     },
     "output_type": "display_data"
    }
   ],
   "source": [
    "skplt.metrics.plot_roc(truth2, best_yhat)\n",
    "#Save figure below with the followin function\n",
    "graphSaver('roc-3topics.png')"
   ]
  },
  {
   "cell_type": "code",
   "execution_count": 28,
   "metadata": {},
   "outputs": [],
   "source": [
    "def make_confusion_matrix(y_test, y_predictor, filename=''):\n",
    "    '''\n",
    "    Confusion matrix generation integrated with optional save function\n",
    "    Returns confusion matrix in array form\n",
    "    '''\n",
    "    cm=confusion_matrix(y_test, y_predictor, labels=[1, 0])\n",
    "    index = ['Positve','Negative']  \n",
    "    columns = ['Positive','Negative']\n",
    "    cm_df = pd.DataFrame(cm, columns, index)\n",
    "    cm_df.index.name = 'Actual'\n",
    "    cm_df.columns.name = 'Predicted'\n",
    "    display(cm_df)\n",
    "    \n",
    "    #Clear previous plot\n",
    "    plt.clf()\n",
    "    plt.cla()\n",
    "\n",
    "    sns.heatmap(cm_df, annot=True)\n",
    "    \n",
    "    if filename != '':\n",
    "        graphSaver(filename)\n",
    "        \n",
    "    return(cm)"
   ]
  },
  {
   "cell_type": "code",
   "execution_count": 29,
   "metadata": {},
   "outputs": [
    {
     "data": {
      "text/html": [
       "<div>\n",
       "<style scoped>\n",
       "    .dataframe tbody tr th:only-of-type {\n",
       "        vertical-align: middle;\n",
       "    }\n",
       "\n",
       "    .dataframe tbody tr th {\n",
       "        vertical-align: top;\n",
       "    }\n",
       "\n",
       "    .dataframe thead th {\n",
       "        text-align: right;\n",
       "    }\n",
       "</style>\n",
       "<table border=\"1\" class=\"dataframe\">\n",
       "  <thead>\n",
       "    <tr style=\"text-align: right;\">\n",
       "      <th>Predicted</th>\n",
       "      <th>Positve</th>\n",
       "      <th>Negative</th>\n",
       "    </tr>\n",
       "    <tr>\n",
       "      <th>Actual</th>\n",
       "      <th></th>\n",
       "      <th></th>\n",
       "    </tr>\n",
       "  </thead>\n",
       "  <tbody>\n",
       "    <tr>\n",
       "      <th>Positive</th>\n",
       "      <td>20</td>\n",
       "      <td>2</td>\n",
       "    </tr>\n",
       "    <tr>\n",
       "      <th>Negative</th>\n",
       "      <td>8</td>\n",
       "      <td>1</td>\n",
       "    </tr>\n",
       "  </tbody>\n",
       "</table>\n",
       "</div>"
      ],
      "text/plain": [
       "Predicted  Positve  Negative\n",
       "Actual                      \n",
       "Positive        20         2\n",
       "Negative         8         1"
      ]
     },
     "metadata": {},
     "output_type": "display_data"
    },
    {
     "data": {
      "image/png": "[encoded data removed]",
      "text/plain": [
       "<Figure size 432x288 with 2 Axes>"
      ]
     },
     "metadata": {
      "needs_background": "light"
     },
     "output_type": "display_data"
    }
   ],
   "source": [
    "conf_matrix = make_confusion_matrix(truth2, labels2, 'conf-matrix-3k.png')"
   ]
  }
 ],
 "metadata": {
  "anaconda-cloud": {},
  "kernelspec": {
   "display_name": "Python 3",
   "language": "python",
   "name": "python3"
  },
  "language_info": {
   "codemirror_mode": {
    "name": "ipython",
    "version": 3
   },
   "file_extension": ".py",
   "mimetype": "text/x-python",
   "name": "python",
   "nbconvert_exporter": "python",
   "pygments_lexer": "ipython3",
   "version": "3.7.6"
  }
 },
 "nbformat": 4,
 "nbformat_minor": 1
}
